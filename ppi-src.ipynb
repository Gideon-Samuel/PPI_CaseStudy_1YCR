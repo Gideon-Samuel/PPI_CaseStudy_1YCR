{
 "cells": [
  {
   "cell_type": "markdown",
   "id": "ca675279",
   "metadata": {},
   "source": [
    "Importing required packages and checks if py3Dmol is installed."
   ]
  },
  {
   "cell_type": "code",
   "execution_count": null,
   "id": "9517354e",
   "metadata": {},
   "outputs": [],
   "source": [
    "import os\n",
    "from Bio.PDB import PDBParser, NeighborSearch, Selection\n",
    "import networkx as nx\n",
    "import matplotlib.pyplot as plt\n",
    "from itertools import combinations\n",
    "import numpy as np\n",
    "import pandas as pd\n",
    "import copy\n",
    "\n",
    "try:\n",
    "    import py3Dmol\n",
    "    py3Dmol_installed = True\n",
    "except ImportError:\n",
    "    py3Dmol_installed = False\n",
    "\n",
    "print(\"Packages are loaded and Py3Dmol installed:\", py3Dmol_installed)\n"
   ]
  },
  {
   "cell_type": "markdown",
   "id": "c92d5f2c",
   "metadata": {},
   "source": [
    "Assigning and parsing the PDB file, and printing structure ID and number of chains."
   ]
  },
  {
   "cell_type": "code",
   "execution_count": null,
   "id": "0be73c0c",
   "metadata": {},
   "outputs": [],
   "source": [
    "#Assigning PDB ID and Directing to file path.\n",
    "pdb_id = \"1YCR\"\n",
    "pdb_file = f\"data/{pdb_id}.pdb\"\n",
    "\n",
    "#Parsing the structure \n",
    "parser = PDBParser(QUIET=True)\n",
    "structure = parser.get_structure(pdb_id, pdb_file)\n",
    "\n",
    "#Description\n",
    "print(f\"Structure ID: {structure.id}\")\n",
    "for model in structure:\n",
    "    print(f\"Number of chains: {len(model)}\")"
   ]
  },
  {
   "cell_type": "markdown",
   "id": "99db91e6",
   "metadata": {},
   "source": [
    "Loading chains A and B, defining a function to find interface residues, and printing interface residues for both chains."
   ]
  },
  {
   "cell_type": "code",
   "execution_count": null,
   "id": "9173cf27",
   "metadata": {},
   "outputs": [],
   "source": [
    "model = structure[0]\n",
    "chainA = model ['A']\n",
    "chainB = model ['B']\n",
    "\n",
    "print(\"Chain loaded for PPI:\", chainA.id, \"and\", chainB.id)\n",
    "\n",
    "#Defining a function to get interface residues\n",
    "def get_interface_residues(chain1, chain2, cutoff=5.0):\n",
    "    atoms1= Selection.unfold_entities(chain1, 'A')\n",
    "    atoms2= Selection.unfold_entities(chain2, 'A')\n",
    "    ns = NeighborSearch(list(atoms2))\n",
    "\n",
    "    interface_residues = set()\n",
    "    for atom in atoms1:\n",
    "        neighbors = ns.search(atom.coord, cutoff)\n",
    "        if neighbors:\n",
    "            interface_residues.add(atom.get_parent().id[1])\n",
    "    return interface_residues\n",
    "\n",
    "#Getting interface residues for both chains (A and B)\n",
    "interface_A = get_interface_residues(chainA, chainB)\n",
    "interface_B = get_interface_residues(chainB, chainA)\n",
    "\n",
    "#printing interface residues\n",
    "print(f\"Chain A interface residues: {sorted(interface_A)}\")\n",
    "print(f\"Chain B interface residues: {sorted(interface_B)}\")\n",
    "\n"
   ]
  },
  {
   "cell_type": "markdown",
   "id": "f0f0d623",
   "metadata": {},
   "source": [
    "Building the protein–protein interaction graph by adding interface residues as nodes and connecting them with edges based on spatial proximity."
   ]
  },
  {
   "cell_type": "code",
   "execution_count": null,
   "id": "25ae3a2a",
   "metadata": {},
   "outputs": [],
   "source": [
    "G= nx.Graph()\n",
    "\n",
    "for res_id in interface_A:\n",
    "    G.add_node(('A', res_id), chain='A')\n",
    "\n",
    "for res_id in interface_B:\n",
    "    G.add_node(('B', res_id), chain='B')\n",
    "\n",
    "print(f\"Nodes added: {G.number_of_nodes()}\")\n",
    "\n",
    "atomsA = [atom for res in chainA if res.id[1] in interface_A for atom in res]\n",
    "atomsB = [atom for res in chainB if res.id[1] in interface_B for atom in res]\n",
    "\n",
    "nsB = NeighborSearch(list(atomsB))\n",
    "cutoff = 5.0\n",
    "\n",
    "for atomA in atomsA:\n",
    "    close_atoms = nsB.search(atomA.coord, cutoff)\n",
    "    for atomB in close_atoms:\n",
    "        resA = atomA.get_parent()\n",
    "        resB = atomB.get_parent()\n",
    "        G.add_edge(\n",
    "            ('A', resA.id[1]),\n",
    "            ('B', resB.id[1]),\n",
    "            weight=np.linalg.norm(atomA.coord - atomB.coord)\n",
    "        )\n",
    "\n",
    "print(f\"PPI Graph created with {G.number_of_nodes()} nodes and {G.number_of_edges()} edges.\")"
   ]
  },
  {
   "cell_type": "markdown",
   "id": "bda3ea59",
   "metadata": {},
   "source": [
    "Calculating node degree and betweenness centrality, then printing the top 10 interface residues ranked by each metric."
   ]
  },
  {
   "cell_type": "code",
   "execution_count": null,
   "id": "4c6a1fd2",
   "metadata": {},
   "outputs": [],
   "source": [
    "# Degree\n",
    "degree_dict = dict(G.degree())\n",
    "\n",
    "# Betweenness centrality\n",
    "betweenness_dict = nx.betweenness_centrality(G)\n",
    "\n",
    "# Top residues by degree (hubs)\n",
    "top_degree = sorted(degree_dict.items(), key=lambda x: x[1], reverse=True)[:10]\n",
    "print(\"Top 10 interface residues by degree:\", top_degree)\n",
    "\n",
    "# Top residues by betweenness (bottlenecks)\n",
    "top_betweenness = sorted(betweenness_dict.items(), key=lambda x: x[1], reverse=True)[:10]\n",
    "print(\"Top 10 interface residues by betweenness:\", top_betweenness)\n"
   ]
  },
  {
   "cell_type": "markdown",
   "id": "d3947f02",
   "metadata": {},
   "source": [
    "Visualizing the PPI network with spring layout, highlighting top-degree residues in orange and top-betweenness residues in red."
   ]
  },
  {
   "cell_type": "code",
   "execution_count": null,
   "id": "53b62966",
   "metadata": {},
   "outputs": [],
   "source": [
    "# Extracting top nodes for coloring\n",
    "top_degree_nodes = [node for node, _ in top_degree]\n",
    "top_betweenness_nodes = [node for node, _ in top_betweenness]\n",
    "\n",
    "# Assigning colors and sizes\n",
    "node_colors = []\n",
    "node_sizes = []\n",
    "\n",
    "for node in G.nodes():\n",
    "    if node in top_degree_nodes:\n",
    "        node_colors.append('orange')   # hubs\n",
    "        node_sizes.append(500)\n",
    "    elif node in top_betweenness_nodes:\n",
    "        node_colors.append('red')      # bottlenecks\n",
    "        node_sizes.append(450)\n",
    "    else:\n",
    "        node_colors.append('skyblue')  # other residues\n",
    "        node_sizes.append(300)\n",
    "\n",
    "# Layout for plotting\n",
    "plt.figure(figsize=(12,10))\n",
    "pos = nx.spring_layout(G, seed=42)\n",
    "\n",
    "nx.draw(\n",
    "    G,\n",
    "    pos,\n",
    "    with_labels=True,\n",
    "    labels={node: node[1] for node in G.nodes()},\n",
    "    node_color=node_colors,\n",
    "    node_size=node_sizes,\n",
    "    font_size=10,\n",
    "    width=1.5\n",
    ")\n",
    "\n",
    "plt.title(\"PPI Residue Interaction Network (Top Residues Highlighted)\")\n",
    "plt.axis('off')\n",
    "plt.show()\n"
   ]
  },
  {
   "cell_type": "markdown",
   "id": "748c6870",
   "metadata": {},
   "source": [
    "Displaying the 3D protein structure with py3Dmol, highlighting top-degree residues in orange and top-betweenness residues in red."
   ]
  },
  {
   "cell_type": "code",
   "execution_count": null,
   "id": "e40b4272",
   "metadata": {},
   "outputs": [],
   "source": [
    "if py3Dmol_installed:\n",
    "    view = py3Dmol.view(query=f'pdb:{pdb_id}')\n",
    "    view.setStyle({'cartoon': {'color':'lightgrey'}})\n",
    "\n",
    "    # Highlighting top-degree residues in orange\n",
    "    for node in top_degree_nodes:\n",
    "        chain, res_id = node\n",
    "        view.addStyle({'chain': chain, 'resi': res_id}, {'stick': {'color':'orange'}})\n",
    "\n",
    "    # Highlighting top-betweenness residues in red\n",
    "    for node in top_betweenness_nodes:\n",
    "        chain, res_id = node\n",
    "        view.addStyle({'chain': chain, 'resi': res_id}, {'stick': {'color':'red'}})\n",
    "\n",
    "    view.zoomTo()\n",
    "    view.show()\n",
    "else:\n",
    "    print(\"Py3Dmol not installed, skipping 3D visualization.\")\n"
   ]
  },
  {
   "cell_type": "code",
   "execution_count": null,
   "id": "f51ff176",
   "metadata": {},
   "outputs": [],
   "source": [
    "# Copy original network\n",
    "G_mut = G.copy()\n",
    "\n",
    "# Simulate mutation: remove residue 23 in chain B\n",
    "mutated_residue = ('B', 23)\n",
    "if mutated_residue in G_mut:\n",
    "    G_mut.remove_node(mutated_residue)\n",
    "\n",
    "# Recompute network metrics\n",
    "degree_mut = dict(G_mut.degree())\n",
    "betweenness_mut = nx.betweenness_centrality(G_mut)\n",
    "\n",
    "print(\"After mutation (B23 -> ALA):\")\n",
    "print(\"Top degree residues:\", sorted(degree_mut.items(), key=lambda x: x[1], reverse=True)[:5])\n",
    "print(\"Top betweenness residues:\", sorted(betweenness_mut.items(), key=lambda x: x[1], reverse=True)[:5])\n"
   ]
  },
  {
   "cell_type": "markdown",
   "id": "e794e3c6",
   "metadata": {},
   "source": [
    "Collecting node and edge metrics into dataframes and saves them as CSV files for downstream analysis."
   ]
  },
  {
   "cell_type": "code",
   "execution_count": null,
   "id": "26e1ebde",
   "metadata": {},
   "outputs": [],
   "source": [
    "nodes_data = []\n",
    "\n",
    "for node in G.nodes():\n",
    "    nodes_data.append({\n",
    "        'Chain': node[0],\n",
    "        'Residue': node[1],\n",
    "        'Degree': degree_dict.get(node, 0),\n",
    "        'Betweenness': betweenness_dict.get(node, 0),\n",
    "        'Role': 'Hub' if node in top_degree_nodes else ('Bottleneck' if node in top_betweenness_nodes else 'Normal')\n",
    "    })\n",
    "\n",
    "df_nodes = pd.DataFrame(nodes_data)\n",
    "df_nodes.to_csv(f'{pdb_id}_PPI_nodes.csv', index=False)\n",
    "print(f\"Node metrics saved to {pdb_id}_PPI_nodes.csv\")\n",
    "\n",
    "#Saving Nodes and Edges\n",
    "edges_data = []\n",
    "\n",
    "for u, v, data in G.edges(data=True):\n",
    "    edges_data.append({\n",
    "        'Residue1': f\"{u[0]}{u[1]}\",\n",
    "        'Residue2': f\"{v[0]}{v[1]}\",\n",
    "        'Distance': data['weight']\n",
    "    })\n",
    "\n",
    "df_edges = pd.DataFrame(edges_data)\n",
    "df_edges.to_csv(f'{pdb_id}_PPI_edges.csv', index=False)\n",
    "print(f\"Edge list saved to {pdb_id}_PPI_edges.csv\")"
   ]
  }
 ],
 "metadata": {
  "kernelspec": {
   "display_name": "venv",
   "language": "python",
   "name": "python3"
  },
  "language_info": {
   "codemirror_mode": {
    "name": "ipython",
    "version": 3
   },
   "file_extension": ".py",
   "mimetype": "text/x-python",
   "name": "python",
   "nbconvert_exporter": "python",
   "pygments_lexer": "ipython3",
   "version": "3.13.7"
  }
 },
 "nbformat": 4,
 "nbformat_minor": 5
}
